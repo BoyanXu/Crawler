{
 "cells": [
  {
   "cell_type": "code",
   "execution_count": 4,
   "metadata": {},
   "outputs": [],
   "source": [
    "from scrapy.http import TextResponse\n",
    "from lxml import etree\n",
    "\n",
    "def is_feed(response: TextResponse) -> bool:\n",
    "    \"\"\"\n",
    "    Check if the response body is of a feed type (Atom, RSS2, RSS1, RSS0).\n",
    "\n",
    "    Parameters:\n",
    "    - response (TextResponse): A Scrapy response object.\n",
    "\n",
    "    Returns:\n",
    "    - bool: True if the response is a feed, otherwise False.\n",
    "    \"\"\"\n",
    "\n",
    "    if not isinstance(response, TextResponse):\n",
    "        return False\n",
    "\n",
    "    try:\n",
    "        root = etree.fromstring(response.body)\n",
    "\n",
    "        # Check for Atom feed\n",
    "        if root.tag == '{http://www.w3.org/2005/Atom}feed':\n",
    "            return True\n",
    "\n",
    "        # Check for various RSS feed types\n",
    "        if root.tag == 'rss':\n",
    "            # Check for version attribute to further narrow down\n",
    "            version = root.get('version')\n",
    "            if version in ['2.0', '1.0', '0.91', '0.92', '0.93', '0.94']:\n",
    "                return True\n",
    "\n",
    "        # Check for RDF (for RSS 1.0)\n",
    "        if root.tag == '{http://www.w3.org/1999/02/22-rdf-syntax-ns#}RDF':\n",
    "            return True\n",
    "\n",
    "    except (etree.XMLSyntaxError, etree.XMLSchemaError):\n",
    "        # Not a well-formed XML/Feed\n",
    "        pass\n",
    "\n",
    "    return False\n",
    "\n",
    "# Example usage:\n",
    "# response = some_fetched_response_using_scrapy\n",
    "# if is_feed(response):\n",
    "#     print(\"It's a feed!\")\n"
   ]
  },
  {
   "cell_type": "code",
   "execution_count": 5,
   "metadata": {},
   "outputs": [],
   "source": [
    "urls = ['https://siliconflorist.com/feed',\n",
    "'https://silveiraneto.net/feed',\n",
    "'https://silverscenesblog.blogspot.com/feeds/posts/default',\n",
    "'https://silverscreenings.org/feed',\n",
    "'https://silvestar.codes/rss.xml',\n",
    "'https://silviamaggidesign.com/feed.xml',\n",
    "'https://simberon.blogspot.com/feeds/posts/default',\n",
    "'https://simblob.blogspot.com/feeds/posts/default',\n",
    "'https://simbly.me/feed.xml',\n",
    "'https://simeongriggs.dev/feed.xml',\n",
    "'https://simeyeveritt.wixsite.com/brapa/blog-feed.xml',\n",
    "'https://simme.dev/index.xml',\n",
    "'https://simon-frey.com/blog/feed',\n",
    "'https://simon-frey.eu/feed',\n",
    "'https://simon.shimmerproject.org/feed',\n",
    "'https://simonewebdesign.it/atom.xml',\n",
    "'https://simonfredsted.com/feed',\n",
    "'https://simonhearne.com/feed/feed.xml',\n",
    "'https://simonknott.de/feed.xml',\n",
    "'https://simonpai.github.io/index.xml',\n",
    "'https://simonparrismaninchair.com/feed/',\n",
    "'https://simonsafar.com/index.xml',\n",
    "'https://simonschreibt.de/feed',\n",
    "'https://simonwillison.net/atom/everything/',\n",
    "'https://simplelivingsomerset.wordpress.com/feed',\n",
    "'https://simpleprogrammer.com/feed',\n",
    "'https://simply.jenett.org/feed.atom',\n",
    "'https://simply.joejenett.com/feed.atom',\n",
    "'https://simplyexplained.com/atom.xml',\n",
    "'https://sin-ack.github.io/index.xml',\n",
    "'https://sinclairtrails.com/feed/',\n",
    "'https://sindre.is/feed/feed.xml',\n",
    "'https://sindresorhus.com/rss.xml',\n",
    "'https://singhkays.com/index.xml',\n",
    "'https://trafilatura.readthedocs.io/en/latest/index.html,'\n",
    "'https://sintraworks.github.io/feed.xml',]"
   ]
  },
  {
   "cell_type": "code",
   "execution_count": 6,
   "metadata": {},
   "outputs": [],
   "source": [
    "urls = ['https://adrien.barbaresi.eu/blog/link-filtering-courlan-python.html']"
   ]
  },
  {
   "cell_type": "code",
   "execution_count": 7,
   "metadata": {},
   "outputs": [
    {
     "ename": "NameError",
     "evalue": "name 'trafilatura' is not defined",
     "output_type": "error",
     "traceback": [
      "\u001b[0;31m---------------------------------------------------------------------------\u001b[0m",
      "\u001b[0;31mNameError\u001b[0m                                 Traceback (most recent call last)",
      "\u001b[1;32m/home/coder/data/feed-crawler/testing/error-handling.ipynb Cell 4\u001b[0m line \u001b[0;36m2\n\u001b[1;32m      <a href='vscode-notebook-cell://ssh-remote%2Bcoder-vscode--boyan--boyan-deeplearning-01--main/home/coder/data/feed-crawler/testing/error-handling.ipynb#W3sdnNjb2RlLXJlbW90ZQ%3D%3D?line=0'>1</a>\u001b[0m \u001b[39mfor\u001b[39;00m url \u001b[39min\u001b[39;00m urls:\n\u001b[0;32m----> <a href='vscode-notebook-cell://ssh-remote%2Bcoder-vscode--boyan--boyan-deeplearning-01--main/home/coder/data/feed-crawler/testing/error-handling.ipynb#W3sdnNjb2RlLXJlbW90ZQ%3D%3D?line=1'>2</a>\u001b[0m     downloaded \u001b[39m=\u001b[39m trafilatura\u001b[39m.\u001b[39mfetch_url(url)\n\u001b[1;32m      <a href='vscode-notebook-cell://ssh-remote%2Bcoder-vscode--boyan--boyan-deeplearning-01--main/home/coder/data/feed-crawler/testing/error-handling.ipynb#W3sdnNjb2RlLXJlbW90ZQ%3D%3D?line=2'>3</a>\u001b[0m     \u001b[39mprint\u001b[39m(is_feed(downloaded))\n",
      "\u001b[0;31mNameError\u001b[0m: name 'trafilatura' is not defined"
     ]
    }
   ],
   "source": [
    "for url in urls:\n",
    "    downloaded = trafilatura.fetch_url(url)\n",
    "    print(is_feed(downloaded))"
   ]
  },
  {
   "cell_type": "code",
   "execution_count": null,
   "metadata": {},
   "outputs": [],
   "source": []
  },
  {
   "cell_type": "code",
   "execution_count": null,
   "metadata": {},
   "outputs": [],
   "source": []
  }
 ],
 "metadata": {
  "kernelspec": {
   "display_name": ".venv",
   "language": "python",
   "name": "python3"
  },
  "language_info": {
   "codemirror_mode": {
    "name": "ipython",
    "version": 3
   },
   "file_extension": ".py",
   "mimetype": "text/x-python",
   "name": "python",
   "nbconvert_exporter": "python",
   "pygments_lexer": "ipython3",
   "version": "3.10.12"
  },
  "orig_nbformat": 4
 },
 "nbformat": 4,
 "nbformat_minor": 2
}
